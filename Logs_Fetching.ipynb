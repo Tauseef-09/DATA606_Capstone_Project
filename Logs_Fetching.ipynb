{
  "nbformat": 4,
  "nbformat_minor": 0,
  "metadata": {
    "colab": {
      "provenance": []
    },
    "kernelspec": {
      "name": "python3",
      "display_name": "Python 3"
    },
    "language_info": {
      "name": "python"
    }
  },
  "cells": [
    {
      "cell_type": "code",
      "source": [
        "!pip install pymongo"
      ],
      "metadata": {
        "colab": {
          "base_uri": "https://localhost:8080/"
        },
        "id": "E_eza2L8BmSI",
        "outputId": "7e678073-02b3-45d1-f6e2-1f3279185d05"
      },
      "execution_count": 1,
      "outputs": [
        {
          "output_type": "stream",
          "name": "stdout",
          "text": [
            "Collecting pymongo\n",
            "  Downloading pymongo-4.10.1-cp310-cp310-manylinux_2_17_x86_64.manylinux2014_x86_64.whl.metadata (22 kB)\n",
            "Collecting dnspython<3.0.0,>=1.16.0 (from pymongo)\n",
            "  Downloading dnspython-2.7.0-py3-none-any.whl.metadata (5.8 kB)\n",
            "Downloading pymongo-4.10.1-cp310-cp310-manylinux_2_17_x86_64.manylinux2014_x86_64.whl (1.4 MB)\n",
            "\u001b[2K   \u001b[90m━━━━━━━━━━━━━━━━━━━━━━━━━━━━━━━━━━━━━━━━\u001b[0m \u001b[32m1.4/1.4 MB\u001b[0m \u001b[31m18.1 MB/s\u001b[0m eta \u001b[36m0:00:00\u001b[0m\n",
            "\u001b[?25hDownloading dnspython-2.7.0-py3-none-any.whl (313 kB)\n",
            "\u001b[2K   \u001b[90m━━━━━━━━━━━━━━━━━━━━━━━━━━━━━━━━━━━━━━━━\u001b[0m \u001b[32m313.6/313.6 kB\u001b[0m \u001b[31m5.9 MB/s\u001b[0m eta \u001b[36m0:00:00\u001b[0m\n",
            "\u001b[?25hInstalling collected packages: dnspython, pymongo\n",
            "Successfully installed dnspython-2.7.0 pymongo-4.10.1\n"
          ]
        }
      ]
    },
    {
      "cell_type": "code",
      "execution_count": null,
      "metadata": {
        "id": "lJEBHwulBflm"
      },
      "outputs": [],
      "source": [
        "import os\n",
        "from google.cloud import logging\n",
        "\n",
        "\n",
        "os.environ[\"GOOGLE_APPLICATION_CREDENTIALS\"] = \"path/to/service_key.json\"\n",
        "\n",
        "# Initialize the logging client\n",
        "client = logging.Client()\n",
        "\n",
        "# Define the logger to pull logs (e.g., Dialogflow logs)\n",
        "logger_name = \"projects/moni-mobv/logs/dialogflow.googleapis.com%2Fconversation\"\n",
        "\n",
        "\n",
        "# Retrieve logs\n",
        "def pull_logs():\n",
        "    # Initialize a logger\n",
        "    logger = client.logger(logger_name)\n",
        "\n",
        "    # Fetch the logs\n",
        "    for entry in client.list_entries(filter_=f\"logName={logger_name}\"):\n",
        "        print(\"Log entry:\")\n",
        "        print(entry)\n",
        "\n",
        "\n",
        "# Execute the function to pull logs\n",
        "pull_logs()\n",
        "\n"
      ]
    }
  ]
}